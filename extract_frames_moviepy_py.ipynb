{
  "nbformat": 4,
  "nbformat_minor": 0,
  "metadata": {
    "colab": {
      "provenance": [],
      "mount_file_id": "1J6pVr-MXKYZVhTmr4VGUlA6yhKfYjauN",
      "authorship_tag": "ABX9TyM5VuLbdjc4C9y0viVw/Ipf",
      "include_colab_link": true
    },
    "kernelspec": {
      "name": "python3",
      "display_name": "Python 3"
    },
    "language_info": {
      "name": "python"
    }
  },
  "cells": [
    {
      "cell_type": "markdown",
      "metadata": {
        "id": "view-in-github",
        "colab_type": "text"
      },
      "source": [
        "<a href=\"https://colab.research.google.com/github/GitBar20/AI/blob/main/extract_frames_moviepy_py.ipynb\" target=\"_parent\"><img src=\"https://colab.research.google.com/assets/colab-badge.svg\" alt=\"Open In Colab\"/></a>"
      ]
    },
    {
      "cell_type": "code",
      "source": [
        "from moviepy.editor import VideoFileClip\n",
        "import numpy as np\n",
        "import os\n",
        "from datetime import timedelta\n"
      ],
      "metadata": {
        "id": "ed_FEEB1-_Di"
      },
      "execution_count": 1,
      "outputs": []
    },
    {
      "cell_type": "code",
      "source": [
        "\n",
        "# то есть, если видео длительностью 30 секунд, сохраняется 10 кадров в секунду,\n",
        "# то всего сохраняется 300 кадров\n",
        "SAVING_FRAMES_PER_SECOND = 0.01\n"
      ],
      "metadata": {
        "id": "PjQ4tJv3_C-2"
      },
      "execution_count": 8,
      "outputs": []
    },
    {
      "cell_type": "code",
      "source": [
        "def format_timedelta(td):\n",
        "    \"\"\"Служебная функция для классного форматирования объектов timedelta (например, 00: 00: 20.05)\n",
        "    исключая микросекунды и сохраняя миллисекунды\"\"\"\n",
        "    result = str(td)\n",
        "    try:\n",
        "        result, ms = result.split(\".\")\n",
        "    except ValueError:\n",
        "        return \"-\" + result + \".00\".replace(\":\", \"-\")\n",
        "    ms = int(ms)\n",
        "    ms = round(ms / 1e4)\n",
        "    return f\"-{result}.{ms:02}\".replace(\":\", \"-\")\n"
      ],
      "metadata": {
        "id": "Cx6OqMYP_IiY"
      },
      "execution_count": 3,
      "outputs": []
    },
    {
      "cell_type": "code",
      "source": [
        "def main(video_file):\n",
        "    # загрузить видеоклип\n",
        "    video_clip = VideoFileClip(video_file)\n",
        "    # создаем папку по названию видео файла\n",
        "    filename, _ = os.path.splitext(video_file)\n",
        "    filename += \"-m\"\n",
        "    if not os.path.isdir(filename):\n",
        "        os.mkdir(filename)\n",
        "    # если SAVING_FRAMES_PER_SECOND больше FPS видео, то установите минимальное из них\n",
        "    saving_frames_per_second = min(video_clip.fps, SAVING_FRAMES_PER_SECOND)\n",
        "    # если SAVING_FRAMES_PER_SECOND установлен в 0, шаг равен 1/fps, иначе 1/SAVING_FRAMES_PER_SECOND\n",
        "    step = 1 / video_clip.fps if saving_frames_per_second == 0 else 1 / saving_frames_per_second\n",
        "    # перебираем каждый возможный кадр\n",
        "    count = 0\n",
        "    for current_duration in np.arange(0, video_clip.duration, step):\n",
        "        # отформатируем имя файла и сохраним его\n",
        "        frame_duration_formatted = format_timedelta(timedelta(seconds=current_duration)).replace(\":\", \"-\")\n",
        "        frame_filename = os.path.join(filename, f\"f{frame_duration_formatted}.jpg\")\n",
        "        # сохраняем кадр с текущей длительностью\n",
        "        video_clip.save_frame(frame_filename, current_duration)\n",
        "        count += 1\n",
        "        print(f\"{frame_filename} сохранен\")\n",
        "\n",
        "    print(f\"Итого сохранено кадров: {count}\")\n"
      ],
      "metadata": {
        "id": "2ipYyXmq_JrL"
      },
      "execution_count": 4,
      "outputs": []
    },
    {
      "cell_type": "code",
      "execution_count": 9,
      "metadata": {
        "colab": {
          "base_uri": "https://localhost:8080/"
        },
        "id": "lq1iMYFi-3D7",
        "outputId": "f9632eff-0f23-4e3a-84bf-eb6213aa4819"
      },
      "outputs": [
        {
          "output_type": "stream",
          "name": "stdout",
          "text": [
            "/content/drive/MyDrive/Potok_buh1-m/f-0-00-00.00.jpg сохранен\n",
            "Итого сохранено кадров: 1\n",
            "\n",
            "Затрачено, с: 0.11897601900000154 \n"
          ]
        }
      ],
      "source": [
        "if __name__ == \"__main__\":\n",
        "    import sys\n",
        "    video_file = sys.argv[1]\n",
        "    import time\n",
        "    begtime = time.perf_counter()\n",
        "    main(\"/content/drive/MyDrive/Potok_buh1.mp4\")\n",
        "    endtime = time.perf_counter()\n",
        "    print(f\"\\nЗатрачено, с: {endtime - begtime} \")"
      ]
    }
  ]
}
{
  "nbformat": 4,
  "nbformat_minor": 0,
  "metadata": {
    "colab": {
      "provenance": [],
      "gpuType": "T4",
      "include_colab_link": true
    },
    "kernelspec": {
      "name": "python3",
      "display_name": "Python 3"
    },
    "language_info": {
      "name": "python"
    },
    "accelerator": "GPU"
  },
  "cells": [
    {
      "cell_type": "markdown",
      "metadata": {
        "id": "view-in-github",
        "colab_type": "text"
      },
      "source": [
        "<a href=\"https://colab.research.google.com/github/GitBar20/AI/blob/main/Test1.ipynb\" target=\"_parent\"><img src=\"https://colab.research.google.com/assets/colab-badge.svg\" alt=\"Open In Colab\"/></a>"
      ]
    },
    {
      "cell_type": "code",
      "source": [
        "from google.colab import drive\n",
        "drive.mount('/content/drive')"
      ],
      "metadata": {
        "colab": {
          "base_uri": "https://localhost:8080/"
        },
        "id": "06RjWPnSOVtT",
        "outputId": "db6f09f4-bc6b-4867-a4a6-b6f483d888d6"
      },
      "execution_count": 1,
      "outputs": [
        {
          "output_type": "stream",
          "name": "stdout",
          "text": [
            "Drive already mounted at /content/drive; to attempt to forcibly remount, call drive.mount(\"/content/drive\", force_remount=True).\n"
          ]
        }
      ]
    },
    {
      "cell_type": "code",
      "execution_count": 2,
      "metadata": {
        "id": "0hyWYiPqLdez"
      },
      "outputs": [],
      "source": [
        "# Работа с операционной системой\n",
        "import os\n",
        "\n",
        "# Работа с массивами данных\n",
        "import numpy as np\n",
        "\n",
        "# Работа с таблицами\n",
        "import pandas as pd\n",
        "\n",
        "# Основные слои\n",
        "from tensorflow.keras.layers import Dense, Flatten, Reshape, Input, Conv2DTranspose, concatenate, Activation, MaxPooling2D, Conv2D, BatchNormalization\n",
        "\n",
        "# класс для использования Functional API\n",
        "from tensorflow.keras import Model\n",
        "\n",
        "# Оптимизаторы для обучения модели\n",
        "from tensorflow.keras.optimizers import Adam\n",
        "\n",
        "# Функции-утилиты\n",
        "from tensorflow.keras import utils\n",
        "\n",
        "# Готовые датасеты\n",
        "from tensorflow.keras.datasets import mnist, fashion_mnist\n",
        "\n",
        "# Коллбэки для выдачи информации в процессе обучения\n",
        "from tensorflow.keras.callbacks import LambdaCallback\n",
        "\n",
        "# Отрисовка изображения\n",
        "from tensorflow.keras.preprocessing import image\n",
        "\n",
        "# Разбиение на тренировочную и тестовую выборки\n",
        "from sklearn.model_selection import train_test_split\n",
        "\n",
        "# Функция среднеквадратической ошибки для расчетов вручную\n",
        "from sklearn.metrics import mean_squared_error\n",
        "\n",
        "# Отрисовка графиков\n",
        "import matplotlib.pyplot as plt\n",
        "\n",
        "%matplotlib inline"
      ]
    },
    {
      "cell_type": "code",
      "execution_count": 3,
      "metadata": {
        "id": "_XwOUn5W-l8u"
      },
      "outputs": [],
      "source": [
        "# Функция сборки сверточного автокодировщика\n",
        "def create_base_ae(in_shape):\n",
        "    # Энкодер, вход нейросети\n",
        "    img_input = Input(in_shape)\n",
        "\n",
        "    # Энкодер, первый блок\n",
        "    # 1.1. Двумерная свертка\n",
        "    x = Conv2D(32, (3, 3), padding='same', activation='relu')(img_input)\n",
        "    # 1.2. Нормализация\n",
        "    x = BatchNormalization()(x)\n",
        "    # 1.3. Двумерная свертка\n",
        "    x = Conv2D(32, (3, 3), padding='same', activation='relu')(x)\n",
        "    # 1.4. Нормализация\n",
        "    x = BatchNormalization()(x)\n",
        "    # 1.5. Снижение размерности и обобщение данных\n",
        "    x = MaxPooling2D()(x)\n",
        "\n",
        "    # Энкодер, второй блок\n",
        "    # 2.1. Двумерная свертка\n",
        "    x = Conv2D(64, (3, 3), padding='same', activation='relu')(x)\n",
        "    # 2.2. Нормализация\n",
        "    x = BatchNormalization()(x)\n",
        "    # 2.3. Двумерная свертка\n",
        "    x = Conv2D(64, (3, 3), padding='same', activation='relu')(x)\n",
        "    # 2.4. Нормализация\n",
        "    x = BatchNormalization()(x)\n",
        "\n",
        "\n",
        "    # На выходе кодировщика и на входе декодировщика z - вектор латентного пространства\n",
        "    # 2.5. Снижение размерности и обобщение данных\n",
        "    z = MaxPooling2D()(x)\n",
        "\n",
        "\n",
        "    # Декодер, первый блок\n",
        "    # 1.1. Транспонированная свертка - повышение размерности данных\n",
        "    x = Conv2DTranspose(64, (2, 2), strides=(2, 2), padding='same', activation='relu')(z)\n",
        "    # 1.2. Нормализация\n",
        "    x = BatchNormalization()(x)\n",
        "    # 1.3. Двумерная свертка\n",
        "    x = Conv2D(64, (3, 3), padding='same', activation='relu')(x)\n",
        "    # 1.4. Нормализация\n",
        "    x = BatchNormalization()(x)\n",
        "    # 1.5. Двумерная свертка\n",
        "    x = Conv2D(64, (3, 3), padding='same', activation='relu')(x)\n",
        "    # 1.6. Нормализация\n",
        "    x = BatchNormalization()(x)\n",
        "\n",
        "    # Декодер, второй блок\n",
        "    # 2.1. Транспонированная свертка - повышение размерности данных\n",
        "    x = Conv2DTranspose(32, (2, 2), strides=(2, 2), padding='same', activation='relu')(x)\n",
        "    # 2.2. Нормализация\n",
        "    x = BatchNormalization()(x) # слой нормализации данных\n",
        "    # 2.3. Двумерная свертка\n",
        "    x = Conv2D(32, (3, 3), padding='same', activation='relu')(x)\n",
        "    # 2.4. Нормализация\n",
        "    x = BatchNormalization()(x) # слой нормализации данных\n",
        "    # 2.5. Двумерная свертка\n",
        "    x = Conv2D(32, (3, 3), padding='same', activation='relu')(x)\n",
        "    # 2.6. Нормализация\n",
        "    x = BatchNormalization()(x)\n",
        "\n",
        "    # Декодер, финальный слой двумерной свертки, выдающий итоговое изображение\n",
        "    outputs = Conv2D(in_shape[-1], (3, 3), activation='sigmoid', padding='same')(x)\n",
        "\n",
        "    # Сборка модели, на входе оригинальное изображение, на выходе - сжатое-восстановленное\n",
        "    model = Model(inputs=img_input, outputs=outputs)\n",
        "\n",
        "    # Компиляция сети, назначение оптимизатора Adam + среднеквадратическая ошибка\n",
        "    model.compile(optimizer=Adam(learning_rate=0.0001), loss='mse')\n",
        "\n",
        "    # Возврат готовой модели\n",
        "    return model"
      ]
    },
    {
      "cell_type": "code",
      "execution_count": 4,
      "metadata": {
        "id": "2S1Q6KH9kO6v"
      },
      "outputs": [],
      "source": [
        "# # Функция последовательного вывода нескольких изображений для сравнения\n",
        "# def plot_images(x_data, pred, n=5):\n",
        "\n",
        "#     plt.figure(figsize=(14, 7))                     # Размер полотна\n",
        "\n",
        "#     for i in range(1, n + 1):                              # Повтор n раз:\n",
        "#         index = np.random.randint(0, pred.shape[0]) # Выбор случайного индекса\n",
        "\n",
        "#         # Показ картинки с индексом index из набора x_data\n",
        "#         ax = plt.subplot(2, n, i)               # Картинка располагается в верхнем ряду\n",
        "#         plt.imshow(x_data[index].squeeze(), cmap='gray')\n",
        "#         ax.get_xaxis().set_visible(False)\n",
        "#         ax.get_yaxis().set_visible(False)\n",
        "\n",
        "#         # Показ картинки с тем же индексом из предсказания автокодировщика\n",
        "#         ax = plt.subplot(2, n, i + n)           # Картинка располагается в нижнем ряду\n",
        "#         plt.imshow(pred[index].squeeze(), cmap='gray')\n",
        "#         ax.get_xaxis().set_visible(False)\n",
        "#         ax.get_yaxis().set_visible(False)\n",
        "\n",
        "#     plt.show()"
      ]
    },
    {
      "cell_type": "code",
      "source": [
        "base_dir = \"/content/drive/MyDrive/Build /Dset_build\""
      ],
      "metadata": {
        "id": "a51YThtiPjnt"
      },
      "execution_count": 5,
      "outputs": []
    },
    {
      "cell_type": "code",
      "source": [
        "shap1 = 256"
      ],
      "metadata": {
        "id": "t_wMAZ9AWMOZ"
      },
      "execution_count": 6,
      "outputs": []
    },
    {
      "cell_type": "code",
      "source": [
        "patch = 0\n",
        "\n",
        "x_train = []\n",
        "y_train = []\n",
        "img_height = shap1\n",
        "img_wight = shap1\n",
        "for patch in os.listdir(base_dir):\n",
        "  for img in os.listdir(base_dir + \"/\" + patch):\n",
        "      x_train.append(image.img_to_array(image.load_img(base_dir + \"/\" + patch +\"/\"+ img,\n",
        "                                                       target_size=(img_height,img_wight),\n",
        "                                                       color_mode=\"grayscale\")))\n",
        "      y_train.append(0)"
      ],
      "metadata": {
        "id": "oizrlPYCBLcM"
      },
      "execution_count": 7,
      "outputs": []
    },
    {
      "cell_type": "code",
      "source": [
        "x_train = np.array(x_train)\n",
        "y_train = np.array(y_train)\n",
        "print(\"размер x\", x_train.shape)\n",
        "print(\"размер y\", y_train.shape)\n"
      ],
      "metadata": {
        "colab": {
          "base_uri": "https://localhost:8080/"
        },
        "id": "vpg8Il1NTmBa",
        "outputId": "8d901a51-46b9-42af-e471-0bd7fb521f15"
      },
      "execution_count": 8,
      "outputs": [
        {
          "output_type": "stream",
          "name": "stdout",
          "text": [
            "размер x (31, 256, 256, 1)\n",
            "размер y (31,)\n"
          ]
        }
      ]
    },
    {
      "cell_type": "code",
      "source": [
        "# N_example = 1\n",
        "\n",
        "# plt.imshow(np.reshape(x_train[N_example],(shap1, shap1)), cmap = \"gray\")\n",
        "# plt.show()\n",
        "# print(y_train[N_example])\n",
        "# N_example = 5\n",
        "# plt.imshow(np.reshape(x_train[N_example],(shap1, shap1)), cmap = \"gray\")\n",
        "# plt.show()\n",
        "# print(y_train[N_example])"
      ],
      "metadata": {
        "id": "ZbgPldRpU7kt"
      },
      "execution_count": 9,
      "outputs": []
    },
    {
      "cell_type": "code",
      "source": [
        "x_shuffle = x_train.copy()\n",
        "np.random.shuffle(x_shuffle)\n"
      ],
      "metadata": {
        "id": "_3Bg7jPEKJNk"
      },
      "execution_count": 10,
      "outputs": []
    },
    {
      "cell_type": "code",
      "source": [
        "# shap2 = shap1 * shap1\n",
        "# x_train = x_train.reshape(x_train.shape[0],shap2)\n"
      ],
      "metadata": {
        "id": "ZBV_N9mFHgGN"
      },
      "execution_count": 11,
      "outputs": []
    },
    {
      "cell_type": "code",
      "source": [
        "print(x_train.shape)"
      ],
      "metadata": {
        "colab": {
          "base_uri": "https://localhost:8080/"
        },
        "id": "mF8PNthFa3br",
        "outputId": "88bddc2a-8368-4b27-be50-d1f61a209535"
      },
      "execution_count": 12,
      "outputs": [
        {
          "output_type": "stream",
          "name": "stdout",
          "text": [
            "(31, 256, 256, 1)\n"
          ]
        }
      ]
    },
    {
      "cell_type": "code",
      "source": [
        "x_train = x_train.astype(\"float32\")\n",
        "x_train = x_train / 255\n",
        "print(y_train.shape)\n",
        "y_train = utils.to_categorical(y_train,0)\n",
        "print(y_train.shape)\n",
        "\n"
      ],
      "metadata": {
        "colab": {
          "base_uri": "https://localhost:8080/"
        },
        "id": "5XPnAq2VMCe4",
        "outputId": "2e9b7be9-c376-4112-8cfe-b7a731bb1045"
      },
      "execution_count": 13,
      "outputs": [
        {
          "output_type": "stream",
          "name": "stdout",
          "text": [
            "(31,)\n",
            "(31, 1)\n"
          ]
        }
      ]
    },
    {
      "cell_type": "code",
      "source": [
        "X_train, X_test, y_train, y_test = train_test_split(x_train, y_train, test_size=0.2, random_state=42)\n",
        "print(f\"Размер тренировочной выборки: {X_train.shape}\")\n",
        "print(f\"Размер тестовой выборки: {X_test.shape}\")"
      ],
      "metadata": {
        "colab": {
          "base_uri": "https://localhost:8080/"
        },
        "id": "HIAnqXFRPsV2",
        "outputId": "b5047c75-0c23-4ba7-83d8-caa2645d8f41"
      },
      "execution_count": 14,
      "outputs": [
        {
          "output_type": "stream",
          "name": "stdout",
          "text": [
            "Размер тренировочной выборки: (24, 256, 256, 1)\n",
            "Размер тестовой выборки: (7, 256, 256, 1)\n"
          ]
        }
      ]
    },
    {
      "cell_type": "code",
      "source": [
        "# Проверка формы данных\n",
        "print(X_train.shape)\n",
        "print(X_test.shape)"
      ],
      "metadata": {
        "colab": {
          "base_uri": "https://localhost:8080/"
        },
        "id": "1vdrWUqIU-I0",
        "outputId": "ca2cbedd-c987-4f1a-e8dd-8839673db8fc"
      },
      "execution_count": 15,
      "outputs": [
        {
          "output_type": "stream",
          "name": "stdout",
          "text": [
            "(24, 256, 256, 1)\n",
            "(7, 256, 256, 1)\n"
          ]
        }
      ]
    },
    {
      "cell_type": "code",
      "source": [
        "# X_train = X_train.reshape(-1, shap1, shap1, 1)\n",
        "# print(X_train.shape)"
      ],
      "metadata": {
        "id": "7QpIQkBYWR2G"
      },
      "execution_count": 16,
      "outputs": []
    },
    {
      "cell_type": "code",
      "source": [
        "print(X_train.shape[1:])"
      ],
      "metadata": {
        "colab": {
          "base_uri": "https://localhost:8080/"
        },
        "id": "8SMjXMCXUZrj",
        "outputId": "a8819b22-95e7-457f-8c42-4552915d2243"
      },
      "execution_count": 17,
      "outputs": [
        {
          "output_type": "stream",
          "name": "stdout",
          "text": [
            "(256, 256, 1)\n"
          ]
        }
      ]
    },
    {
      "cell_type": "code",
      "execution_count": 18,
      "metadata": {
        "id": "OvN7hZUXfmRp"
      },
      "outputs": [],
      "source": [
        "# Сборка автокодировщика для формы картинок датасета\n",
        "ae_mnist = create_base_ae(X_train.shape[1:])"
      ]
    },
    {
      "cell_type": "code",
      "execution_count": 19,
      "metadata": {
        "id": "UzBbveDQfno8"
      },
      "outputs": [],
      "source": [
        "# # Сводка архитектуры автокодировщика\n",
        "# ae_mnist.summary()"
      ]
    },
    {
      "cell_type": "code",
      "execution_count": 20,
      "metadata": {
        "colab": {
          "base_uri": "https://localhost:8080/"
        },
        "id": "aA7W6XOstsnU",
        "outputId": "2994aabf-fb95-4020-c434-4632e9f16b2f"
      },
      "outputs": [
        {
          "output_type": "stream",
          "name": "stdout",
          "text": [
            "Epoch 1/100\n",
            "24/24 [==============================] - 14s 31ms/step - loss: 0.0558 - val_loss: 0.0535\n",
            "Epoch 2/100\n",
            "24/24 [==============================] - 0s 18ms/step - loss: 0.0284 - val_loss: 0.0530\n",
            "Epoch 3/100\n",
            "24/24 [==============================] - 0s 17ms/step - loss: 0.0180 - val_loss: 0.0519\n",
            "Epoch 4/100\n",
            "24/24 [==============================] - 0s 17ms/step - loss: 0.0124 - val_loss: 0.0510\n",
            "Epoch 5/100\n",
            "24/24 [==============================] - 0s 17ms/step - loss: 0.0095 - val_loss: 0.0504\n",
            "Epoch 6/100\n",
            "24/24 [==============================] - 0s 17ms/step - loss: 0.0079 - val_loss: 0.0496\n",
            "Epoch 7/100\n",
            "24/24 [==============================] - 0s 18ms/step - loss: 0.0069 - val_loss: 0.0486\n",
            "Epoch 8/100\n",
            "24/24 [==============================] - 0s 18ms/step - loss: 0.0063 - val_loss: 0.0473\n",
            "Epoch 9/100\n",
            "24/24 [==============================] - 0s 18ms/step - loss: 0.0058 - val_loss: 0.0456\n",
            "Epoch 10/100\n",
            "24/24 [==============================] - 0s 16ms/step - loss: 0.0055 - val_loss: 0.0432\n",
            "Epoch 11/100\n",
            "24/24 [==============================] - 0s 17ms/step - loss: 0.0052 - val_loss: 0.0402\n",
            "Epoch 12/100\n",
            "24/24 [==============================] - 0s 17ms/step - loss: 0.0050 - val_loss: 0.0370\n",
            "Epoch 13/100\n",
            "24/24 [==============================] - 0s 17ms/step - loss: 0.0049 - val_loss: 0.0340\n",
            "Epoch 14/100\n",
            "24/24 [==============================] - 0s 17ms/step - loss: 0.0047 - val_loss: 0.0312\n",
            "Epoch 15/100\n",
            "24/24 [==============================] - 0s 21ms/step - loss: 0.0046 - val_loss: 0.0289\n",
            "Epoch 16/100\n",
            "24/24 [==============================] - 0s 21ms/step - loss: 0.0045 - val_loss: 0.0262\n",
            "Epoch 17/100\n",
            "24/24 [==============================] - 0s 20ms/step - loss: 0.0044 - val_loss: 0.0237\n",
            "Epoch 18/100\n",
            "24/24 [==============================] - 0s 19ms/step - loss: 0.0043 - val_loss: 0.0209\n",
            "Epoch 19/100\n",
            "24/24 [==============================] - 0s 19ms/step - loss: 0.0042 - val_loss: 0.0185\n",
            "Epoch 20/100\n",
            "24/24 [==============================] - 0s 20ms/step - loss: 0.0041 - val_loss: 0.0159\n",
            "Epoch 21/100\n",
            "24/24 [==============================] - 1s 21ms/step - loss: 0.0040 - val_loss: 0.0138\n",
            "Epoch 22/100\n",
            "24/24 [==============================] - 0s 20ms/step - loss: 0.0040 - val_loss: 0.0113\n",
            "Epoch 23/100\n",
            "24/24 [==============================] - 0s 19ms/step - loss: 0.0039 - val_loss: 0.0096\n",
            "Epoch 24/100\n",
            "24/24 [==============================] - 0s 20ms/step - loss: 0.0039 - val_loss: 0.0083\n",
            "Epoch 25/100\n",
            "24/24 [==============================] - 0s 20ms/step - loss: 0.0038 - val_loss: 0.0070\n",
            "Epoch 26/100\n",
            "24/24 [==============================] - 0s 19ms/step - loss: 0.0038 - val_loss: 0.0059\n",
            "Epoch 27/100\n",
            "24/24 [==============================] - 0s 21ms/step - loss: 0.0037 - val_loss: 0.0052\n",
            "Epoch 28/100\n",
            "24/24 [==============================] - 0s 18ms/step - loss: 0.0037 - val_loss: 0.0046\n",
            "Epoch 29/100\n",
            "24/24 [==============================] - 0s 17ms/step - loss: 0.0036 - val_loss: 0.0042\n",
            "Epoch 30/100\n",
            "24/24 [==============================] - 0s 17ms/step - loss: 0.0036 - val_loss: 0.0040\n",
            "Epoch 31/100\n",
            "24/24 [==============================] - 0s 17ms/step - loss: 0.0036 - val_loss: 0.0038\n",
            "Epoch 32/100\n",
            "24/24 [==============================] - 0s 18ms/step - loss: 0.0035 - val_loss: 0.0037\n",
            "Epoch 33/100\n",
            "24/24 [==============================] - 0s 17ms/step - loss: 0.0035 - val_loss: 0.0036\n",
            "Epoch 34/100\n",
            "24/24 [==============================] - 0s 17ms/step - loss: 0.0035 - val_loss: 0.0035\n",
            "Epoch 35/100\n",
            "24/24 [==============================] - 0s 17ms/step - loss: 0.0034 - val_loss: 0.0035\n",
            "Epoch 36/100\n",
            "24/24 [==============================] - 0s 17ms/step - loss: 0.0034 - val_loss: 0.0035\n",
            "Epoch 37/100\n",
            "24/24 [==============================] - 0s 18ms/step - loss: 0.0034 - val_loss: 0.0035\n",
            "Epoch 38/100\n",
            "24/24 [==============================] - 0s 18ms/step - loss: 0.0033 - val_loss: 0.0035\n",
            "Epoch 39/100\n",
            "24/24 [==============================] - 0s 17ms/step - loss: 0.0033 - val_loss: 0.0034\n",
            "Epoch 40/100\n",
            "24/24 [==============================] - 0s 17ms/step - loss: 0.0033 - val_loss: 0.0034\n",
            "Epoch 41/100\n",
            "24/24 [==============================] - 0s 18ms/step - loss: 0.0033 - val_loss: 0.0034\n",
            "Epoch 42/100\n",
            "24/24 [==============================] - 0s 17ms/step - loss: 0.0032 - val_loss: 0.0034\n",
            "Epoch 43/100\n",
            "24/24 [==============================] - 0s 17ms/step - loss: 0.0032 - val_loss: 0.0034\n",
            "Epoch 44/100\n",
            "24/24 [==============================] - 0s 18ms/step - loss: 0.0032 - val_loss: 0.0033\n",
            "Epoch 45/100\n",
            "24/24 [==============================] - 0s 17ms/step - loss: 0.0032 - val_loss: 0.0033\n",
            "Epoch 46/100\n",
            "24/24 [==============================] - 0s 17ms/step - loss: 0.0032 - val_loss: 0.0033\n",
            "Epoch 47/100\n",
            "24/24 [==============================] - 0s 17ms/step - loss: 0.0031 - val_loss: 0.0033\n",
            "Epoch 48/100\n",
            "24/24 [==============================] - 0s 18ms/step - loss: 0.0031 - val_loss: 0.0032\n",
            "Epoch 49/100\n",
            "24/24 [==============================] - 0s 17ms/step - loss: 0.0031 - val_loss: 0.0032\n",
            "Epoch 50/100\n",
            "24/24 [==============================] - 0s 17ms/step - loss: 0.0031 - val_loss: 0.0032\n",
            "Epoch 51/100\n",
            "24/24 [==============================] - 0s 18ms/step - loss: 0.0031 - val_loss: 0.0032\n",
            "Epoch 52/100\n",
            "24/24 [==============================] - 0s 20ms/step - loss: 0.0030 - val_loss: 0.0032\n",
            "Epoch 53/100\n",
            "24/24 [==============================] - 0s 21ms/step - loss: 0.0030 - val_loss: 0.0031\n",
            "Epoch 54/100\n",
            "24/24 [==============================] - 0s 20ms/step - loss: 0.0030 - val_loss: 0.0031\n",
            "Epoch 55/100\n",
            "24/24 [==============================] - 0s 18ms/step - loss: 0.0030 - val_loss: 0.0031\n",
            "Epoch 56/100\n",
            "24/24 [==============================] - 0s 20ms/step - loss: 0.0030 - val_loss: 0.0031\n",
            "Epoch 57/100\n",
            "24/24 [==============================] - 0s 20ms/step - loss: 0.0030 - val_loss: 0.0031\n",
            "Epoch 58/100\n",
            "24/24 [==============================] - 1s 21ms/step - loss: 0.0029 - val_loss: 0.0030\n",
            "Epoch 59/100\n",
            "24/24 [==============================] - 0s 20ms/step - loss: 0.0029 - val_loss: 0.0030\n",
            "Epoch 60/100\n",
            "24/24 [==============================] - 0s 19ms/step - loss: 0.0029 - val_loss: 0.0030\n",
            "Epoch 61/100\n",
            "24/24 [==============================] - 0s 21ms/step - loss: 0.0029 - val_loss: 0.0030\n",
            "Epoch 62/100\n",
            "24/24 [==============================] - 0s 21ms/step - loss: 0.0029 - val_loss: 0.0030\n",
            "Epoch 63/100\n",
            "24/24 [==============================] - 0s 21ms/step - loss: 0.0029 - val_loss: 0.0030\n",
            "Epoch 64/100\n",
            "24/24 [==============================] - 0s 21ms/step - loss: 0.0028 - val_loss: 0.0030\n",
            "Epoch 65/100\n",
            "24/24 [==============================] - 0s 17ms/step - loss: 0.0028 - val_loss: 0.0029\n",
            "Epoch 66/100\n",
            "24/24 [==============================] - 0s 18ms/step - loss: 0.0028 - val_loss: 0.0029\n",
            "Epoch 67/100\n",
            "24/24 [==============================] - 0s 18ms/step - loss: 0.0028 - val_loss: 0.0029\n",
            "Epoch 68/100\n",
            "24/24 [==============================] - 0s 18ms/step - loss: 0.0028 - val_loss: 0.0029\n",
            "Epoch 69/100\n",
            "24/24 [==============================] - 0s 18ms/step - loss: 0.0028 - val_loss: 0.0029\n",
            "Epoch 70/100\n",
            "24/24 [==============================] - 0s 17ms/step - loss: 0.0028 - val_loss: 0.0029\n",
            "Epoch 71/100\n",
            "24/24 [==============================] - 0s 18ms/step - loss: 0.0028 - val_loss: 0.0029\n",
            "Epoch 72/100\n",
            "24/24 [==============================] - 0s 17ms/step - loss: 0.0027 - val_loss: 0.0028\n",
            "Epoch 73/100\n",
            "24/24 [==============================] - 0s 18ms/step - loss: 0.0027 - val_loss: 0.0028\n",
            "Epoch 74/100\n",
            "24/24 [==============================] - 0s 17ms/step - loss: 0.0027 - val_loss: 0.0028\n",
            "Epoch 75/100\n",
            "24/24 [==============================] - 0s 18ms/step - loss: 0.0027 - val_loss: 0.0028\n",
            "Epoch 76/100\n",
            "24/24 [==============================] - 0s 18ms/step - loss: 0.0027 - val_loss: 0.0028\n",
            "Epoch 77/100\n",
            "24/24 [==============================] - 0s 17ms/step - loss: 0.0027 - val_loss: 0.0028\n",
            "Epoch 78/100\n",
            "24/24 [==============================] - 0s 18ms/step - loss: 0.0027 - val_loss: 0.0028\n",
            "Epoch 79/100\n",
            "24/24 [==============================] - 0s 17ms/step - loss: 0.0027 - val_loss: 0.0028\n",
            "Epoch 80/100\n",
            "24/24 [==============================] - 0s 17ms/step - loss: 0.0027 - val_loss: 0.0028\n",
            "Epoch 81/100\n",
            "24/24 [==============================] - 0s 18ms/step - loss: 0.0026 - val_loss: 0.0027\n",
            "Epoch 82/100\n",
            "24/24 [==============================] - 0s 17ms/step - loss: 0.0026 - val_loss: 0.0027\n",
            "Epoch 83/100\n",
            "24/24 [==============================] - 0s 17ms/step - loss: 0.0026 - val_loss: 0.0027\n",
            "Epoch 84/100\n",
            "24/24 [==============================] - 0s 18ms/step - loss: 0.0026 - val_loss: 0.0027\n",
            "Epoch 85/100\n",
            "24/24 [==============================] - 0s 17ms/step - loss: 0.0026 - val_loss: 0.0027\n",
            "Epoch 86/100\n",
            "24/24 [==============================] - 0s 18ms/step - loss: 0.0026 - val_loss: 0.0027\n",
            "Epoch 87/100\n",
            "24/24 [==============================] - 0s 19ms/step - loss: 0.0026 - val_loss: 0.0027\n",
            "Epoch 88/100\n",
            "24/24 [==============================] - 0s 20ms/step - loss: 0.0026 - val_loss: 0.0027\n",
            "Epoch 89/100\n",
            "24/24 [==============================] - 0s 20ms/step - loss: 0.0026 - val_loss: 0.0027\n",
            "Epoch 90/100\n",
            "24/24 [==============================] - 0s 19ms/step - loss: 0.0025 - val_loss: 0.0027\n",
            "Epoch 91/100\n",
            "24/24 [==============================] - 0s 21ms/step - loss: 0.0025 - val_loss: 0.0026\n",
            "Epoch 92/100\n",
            "24/24 [==============================] - 0s 19ms/step - loss: 0.0025 - val_loss: 0.0026\n",
            "Epoch 93/100\n",
            "24/24 [==============================] - 0s 20ms/step - loss: 0.0025 - val_loss: 0.0026\n",
            "Epoch 94/100\n",
            "24/24 [==============================] - 0s 19ms/step - loss: 0.0025 - val_loss: 0.0026\n",
            "Epoch 95/100\n",
            "24/24 [==============================] - 0s 19ms/step - loss: 0.0025 - val_loss: 0.0026\n",
            "Epoch 96/100\n",
            "24/24 [==============================] - 0s 20ms/step - loss: 0.0025 - val_loss: 0.0026\n",
            "Epoch 97/100\n",
            "24/24 [==============================] - 0s 21ms/step - loss: 0.0025 - val_loss: 0.0026\n",
            "Epoch 98/100\n",
            "24/24 [==============================] - 0s 21ms/step - loss: 0.0025 - val_loss: 0.0026\n",
            "Epoch 99/100\n",
            "24/24 [==============================] - 0s 20ms/step - loss: 0.0025 - val_loss: 0.0026\n",
            "Epoch 100/100\n",
            "24/24 [==============================] - 0s 20ms/step - loss: 0.0024 - val_loss: 0.0026\n"
          ]
        }
      ],
      "source": [
        "# Обучение модели автокодировщика, на входе и выходе одни и те же данные\n",
        "history = ae_mnist.fit(X_train, X_train,\n",
        "                       epochs=100,\n",
        "                       batch_size=1,\n",
        "                       validation_data = (X_test, X_test)\n",
        "                       )"
      ]
    },
    {
      "cell_type": "code",
      "source": [
        "from tensorflow.keras.metrics import Accuracy"
      ],
      "metadata": {
        "id": "JNXM2A2jh0yJ"
      },
      "execution_count": 21,
      "outputs": []
    }
  ]
}
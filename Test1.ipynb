{
  "nbformat": 4,
  "nbformat_minor": 0,
  "metadata": {
    "colab": {
      "provenance": [],
      "mount_file_id": "1FXP-Bf8FGSIVxy9B__yZEqzTmcIxMvm7",
      "authorship_tag": "ABX9TyM2aUW1IuWppINFYCUxxDu6",
      "include_colab_link": true
    },
    "kernelspec": {
      "name": "python3",
      "display_name": "Python 3"
    },
    "language_info": {
      "name": "python"
    }
  },
  "cells": [
    {
      "cell_type": "markdown",
      "metadata": {
        "id": "view-in-github",
        "colab_type": "text"
      },
      "source": [
        "<a href=\"https://colab.research.google.com/github/GitBar20/AI/blob/main/Test1.ipynb\" target=\"_parent\"><img src=\"https://colab.research.google.com/assets/colab-badge.svg\" alt=\"Open In Colab\"/></a>"
      ]
    },
    {
      "cell_type": "code",
      "execution_count": 1,
      "metadata": {
        "id": "0hyWYiPqLdez"
      },
      "outputs": [],
      "source": [
        "# Работа с операционной системой\n",
        "import os\n",
        "\n",
        "# Работа с массивами данных\n",
        "import numpy as np\n",
        "\n",
        "# Работа с таблицами\n",
        "import pandas as pd\n",
        "\n",
        "# Основные слои\n",
        "from tensorflow.keras.layers import Dense, Flatten, Reshape, Input, Conv2DTranspose, concatenate, Activation, MaxPooling2D, Conv2D, BatchNormalization\n",
        "\n",
        "# класс для использования Functional API\n",
        "from tensorflow.keras import Model\n",
        "\n",
        "# Оптимизаторы для обучения модели\n",
        "from tensorflow.keras.optimizers import Adam\n",
        "\n",
        "# Функции-утилиты\n",
        "from tensorflow.keras import utils\n",
        "\n",
        "# Готовые датасеты\n",
        "from tensorflow.keras.datasets import mnist, fashion_mnist\n",
        "\n",
        "# Коллбэки для выдачи информации в процессе обучения\n",
        "from tensorflow.keras.callbacks import LambdaCallback\n",
        "\n",
        "# Отрисовка изображения\n",
        "from tensorflow.keras.preprocessing import image\n",
        "\n",
        "# Разбиение на тренировочную и тестовую выборки\n",
        "from sklearn.model_selection import train_test_split\n",
        "\n",
        "# Функция среднеквадратической ошибки для расчетов вручную\n",
        "from sklearn.metrics import mean_squared_error\n",
        "\n",
        "# Отрисовка графиков\n",
        "import matplotlib.pyplot as plt\n",
        "\n",
        "%matplotlib inline"
      ]
    },
    {
      "cell_type": "code",
      "source": [
        "base_dir = \"/content/drive/MyDrive/Build /Dset_build\""
      ],
      "metadata": {
        "id": "a51YThtiPjnt"
      },
      "execution_count": 2,
      "outputs": []
    },
    {
      "cell_type": "code",
      "source": [
        "patch = 0\n",
        "x_train = []\n",
        "y_train = []\n",
        "img_height = 1000\n",
        "img_wight = 1000\n",
        "for patch in os.listdir(base_dir):\n",
        "  for img in os.listdir(base_dir + \"/\" + patch):\n",
        "      x_train.append(image.img_to_array(image.load_img(base_dir + \"/\" + patch +\"/\"+ img,\n",
        "                                                       target_size=(img_height,img_wight),\n",
        "                                                       color_mode=\"grayscale\")))\n",
        "      y_train.append(0)"
      ],
      "metadata": {
        "id": "oizrlPYCBLcM"
      },
      "execution_count": 3,
      "outputs": []
    },
    {
      "cell_type": "code",
      "source": [
        "x_train = np.array(x_train)\n",
        "y_train = np.array(y_train)\n",
        "print(\"размер x\", x_train.shape)\n",
        "print(\"размер y\", y_train.shape)\n"
      ],
      "metadata": {
        "colab": {
          "base_uri": "https://localhost:8080/"
        },
        "id": "vpg8Il1NTmBa",
        "outputId": "0bca34c9-e805-4f42-841a-115fac1d00de"
      },
      "execution_count": 4,
      "outputs": [
        {
          "output_type": "stream",
          "name": "stdout",
          "text": [
            "размер x (31, 1000, 1000, 1)\n",
            "размер y (31,)\n"
          ]
        }
      ]
    },
    {
      "cell_type": "code",
      "source": [
        "N_example = 1\n",
        "plt.imshow(np.reshape(x_train[N_example],(1000, 1000)), cmap = \"gray\")\n",
        "plt.show()\n",
        "print(y_train[N_example])\n",
        "N_example = 5\n",
        "plt.imshow(np.reshape(x_train[N_example],(1000, 1000)), cmap = \"gray\")\n",
        "plt.show()\n",
        "print(y_train[N_example])"
      ],
      "metadata": {
        "id": "ZbgPldRpU7kt"
      },
      "execution_count": null,
      "outputs": []
    },
    {
      "cell_type": "code",
      "source": [
        "x_shuffle = x_train.copy()\n",
        "np.random.shuffle(x_shuffle)\n"
      ],
      "metadata": {
        "id": "_3Bg7jPEKJNk"
      },
      "execution_count": 5,
      "outputs": []
    },
    {
      "cell_type": "code",
      "source": [
        "x_train = x_train.reshape(x_train.shape[0],1000000)\n",
        "print(x_train.shape)"
      ],
      "metadata": {
        "colab": {
          "base_uri": "https://localhost:8080/"
        },
        "id": "ZBV_N9mFHgGN",
        "outputId": "796acb1b-9d16-458e-ff75-3330362989fc"
      },
      "execution_count": 6,
      "outputs": [
        {
          "output_type": "stream",
          "name": "stdout",
          "text": [
            "(31, 1000000)\n"
          ]
        }
      ]
    },
    {
      "cell_type": "code",
      "source": [
        "x_train = x_train.astype(\"float32\")\n",
        "x_train = x_train / 255\n",
        "print(y_train.shape)\n",
        "y_train = utils.to_categorical(y_train,0)\n",
        "print(y_train.shape)\n",
        "\n"
      ],
      "metadata": {
        "colab": {
          "base_uri": "https://localhost:8080/"
        },
        "id": "5XPnAq2VMCe4",
        "outputId": "c2aba0be-8c0d-4c45-9c23-17b874f0a338"
      },
      "execution_count": 7,
      "outputs": [
        {
          "output_type": "stream",
          "name": "stdout",
          "text": [
            "(31,)\n",
            "(31, 1)\n"
          ]
        }
      ]
    },
    {
      "cell_type": "code",
      "source": [
        "X_train, X_test, y_train, y_test = train_test_split(x_train, y_train, test_size=0.2, random_state=42)\n",
        "print(f\"Размер тренировочной выборки: {X_train.shape}\")\n",
        "print(f\"Размер тестовой выборки: {X_test.shape}\")"
      ],
      "metadata": {
        "colab": {
          "base_uri": "https://localhost:8080/"
        },
        "id": "HIAnqXFRPsV2",
        "outputId": "7005827e-cf4b-40fb-a0a9-8c254fe4b1f1"
      },
      "execution_count": 8,
      "outputs": [
        {
          "output_type": "stream",
          "name": "stdout",
          "text": [
            "Размер тренировочной выборки: (24, 1000000)\n",
            "Размер тестовой выборки: (7, 1000000)\n"
          ]
        }
      ]
    }
  ]
}
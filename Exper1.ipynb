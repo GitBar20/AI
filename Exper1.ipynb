{
  "nbformat": 4,
  "nbformat_minor": 0,
  "metadata": {
    "colab": {
      "provenance": [],
      "authorship_tag": "ABX9TyNmzV+Xhdgtj7/R3FwoqM51",
      "include_colab_link": true
    },
    "kernelspec": {
      "name": "python3",
      "display_name": "Python 3"
    },
    "language_info": {
      "name": "python"
    }
  },
  "cells": [
    {
      "cell_type": "markdown",
      "metadata": {
        "id": "view-in-github",
        "colab_type": "text"
      },
      "source": [
        "<a href=\"https://colab.research.google.com/github/GitBar20/AI/blob/main/Exper1.ipynb\" target=\"_parent\"><img src=\"https://colab.research.google.com/assets/colab-badge.svg\" alt=\"Open In Colab\"/></a>"
      ]
    },
    {
      "cell_type": "code",
      "execution_count": null,
      "metadata": {
        "id": "Ww2N0cDGRoiI"
      },
      "outputs": [],
      "source": []
    },
    {
      "cell_type": "markdown",
      "source": [
        "# Формирование модели, обучение и тестирование"
      ],
      "metadata": {
        "id": "nkul09lCUVpY"
      }
    },
    {
      "cell_type": "markdown",
      "source": [
        "## Эксперимент 1\n",
        "Созданим простую модель и обучим ее"
      ],
      "metadata": {
        "id": "8ioPYkCHUin4"
      }
    },
    {
      "cell_type": "code",
      "source": [
        "import time\n",
        "class timex:\n",
        "    def __enter__(self):\n",
        "        # Фиксация времени старта процесса\n",
        "        self.t = time.time()\n",
        "        return self\n",
        "    def __exit__(self, type, value, traceback):\n",
        "        # Вывод времени работы\n",
        "        print('Время обработки: {:.2f} с'.format(time.time() - self.t))"
      ],
      "metadata": {
        "id": "Vrfv10Ax3awZ"
      },
      "execution_count": null,
      "outputs": []
    },
    {
      "cell_type": "code",
      "source": [
        "def model_check(model):\n",
        "  # Входная форма\n",
        "  input_shape = model.input.get_shape()[1:]\n",
        "\n",
        "  # Выходная форма\n",
        "  output_shape = model.output.get_shape()[1:]\n",
        "\n",
        "  # Сравнение\n",
        "  assert input_shape == output_shape, 'Вход и выход не совпадают по форме'"
      ],
      "metadata": {
        "id": "GGYC5RplWaI2"
      },
      "execution_count": null,
      "outputs": []
    },
    {
      "cell_type": "code",
      "source": [
        "# Работа с операционной системой\n",
        "import os\n",
        "\n",
        "# Работа с массивами данных\n",
        "import numpy as np\n",
        "\n",
        "# Работа с таблицами\n",
        "import pandas as pd\n",
        "\n",
        "# Основные слои\n",
        "from tensorflow.keras.layers import Dense, Flatten, Reshape, Input, Conv2DTranspose, concatenate, Activation, MaxPooling2D, Conv2D, BatchNormalization, Concatenate\n",
        "\n",
        "# класс для использования Functional API\n",
        "from tensorflow.keras import Model\n",
        "\n",
        "# Оптимизаторы для обучения модели\n",
        "from tensorflow.keras.optimizers import Adam\n",
        "\n",
        "# Функции-утилиты\n",
        "from tensorflow.keras import utils\n",
        "\n",
        "# Готовые датасеты\n",
        "from tensorflow.keras.datasets import mnist, fashion_mnist\n",
        "\n",
        "# Коллбэки для выдачи информации в процессе обучения\n",
        "from tensorflow.keras.callbacks import LambdaCallback\n",
        "\n",
        "# Отрисовка изображения\n",
        "from tensorflow.keras.preprocessing import image\n",
        "\n",
        "# Разбиение на тренировочную и тестовую выборки\n",
        "from sklearn.model_selection import train_test_split\n",
        "\n",
        "# Функция среднеквадратической ошибки для расчетов вручную\n",
        "from sklearn.metrics import mean_squared_error\n",
        "\n",
        "# Отрисовка графиков\n",
        "import matplotlib.pyplot as plt\n",
        "\n",
        "%matplotlib inline\n",
        "import tensorflow as tf"
      ],
      "metadata": {
        "id": "TYT4Ohr3XDHo"
      },
      "execution_count": null,
      "outputs": []
    },
    {
      "cell_type": "code",
      "source": [
        "# Задание формы изображений с учетом одного канала\n",
        "shape = 360, 640, 3\n",
        "\n",
        "# Форма латентного пространства\n",
        "latent_dim = 8\n",
        "\n",
        "# ЭНКОДЕР\n",
        "inputs = Input(shape)\n",
        "x = Conv2D(8, 3, padding='same', dilation_rate=2, activation='elu')(inputs)\n",
        "x = BatchNormalization()(x)\n",
        "x = Conv2D(16, 3, strides=2, padding='same', activation='elu')(x)\n",
        "x = BatchNormalization()(x)\n",
        "x = Conv2D(32, 3, strides=2, padding='same', activation='elu')(x)\n",
        "x = BatchNormalization()(x)\n",
        "pre_flat_shape = x.shape[1:]\n",
        "x = Flatten()(x)\n",
        "flat_shape = x.shape[1]\n",
        "x = Dense(64, activation='elu')(x)\n",
        "x = BatchNormalization()(x)\n",
        "encoder_outputs = Dense(latent_dim)(x)\n",
        "\n",
        "encoder = Model(inputs, encoder_outputs, name='encoder')\n",
        "\n",
        "# ДЕКОДЕР\n",
        "x = encoder_outputs\n",
        "#x = Concatenate(axis=-1)([x, x ** 2, tf.keras.backend.sqrt(tf.keras.backend.sqrt(x ** 2))])\n",
        "x = Dense(64, activation='elu')(x)\n",
        "x = Dense(flat_shape)(x)\n",
        "x = Reshape(pre_flat_shape)(x)\n",
        "\n",
        "x = Conv2DTranspose(32, 3, strides=2, padding='same', activation='elu')(x)\n",
        "x = BatchNormalization()(x)\n",
        "x = Conv2DTranspose(16, 3, strides=2, padding='same', activation='elu')(x)\n",
        "x = BatchNormalization()(x)\n",
        "x = Conv2D(8, 3, padding='same', dilation_rate=2, activation='elu')(x)\n",
        "x = Conv2D(3, 3, padding='same', activation='sigmoid')(x)\n",
        "decoder_outputs = x\n",
        "\n",
        "decoder = Model(inputs, decoder_outputs, name=\"decoder\")\n",
        "\n",
        "autoencoder = Model(inputs, decoder_outputs, name=\"autoencoder\")"
      ],
      "metadata": {
        "id": "t5srkGn5VPkl"
      },
      "execution_count": null,
      "outputs": []
    },
    {
      "cell_type": "markdown",
      "source": [
        "Подгрузим данные для обучения"
      ],
      "metadata": {
        "id": "kXdR5dEIYEIt"
      }
    },
    {
      "cell_type": "code",
      "source": [
        "import gc\n",
        "import pickle as pkl\n",
        "gc.collect()\n",
        "PATH_VIDEO = 'Internship/Video/orig/'\n",
        "with open(f'{PATH_VIDEO}1var.pkl', \"rb\") as f: # Открываем файл для чтения\n",
        "    train = pkl.load(f)     # Загружаем объект из файла"
      ],
      "metadata": {
        "id": "jXyz-TW_YICN"
      },
      "execution_count": null,
      "outputs": []
    },
    {
      "cell_type": "code",
      "source": [
        "train = np.array(train)\n",
        "train.shape"
      ],
      "metadata": {
        "colab": {
          "base_uri": "https://localhost:8080/"
        },
        "id": "tfcDPRXkYpJ3",
        "outputId": "45809b79-9979-43e9-f7ee-22ddc3675d89"
      },
      "execution_count": null,
      "outputs": [
        {
          "output_type": "execute_result",
          "data": {
            "text/plain": [
              "(1168, 360, 640, 3)"
            ]
          },
          "metadata": {},
          "execution_count": 6
        }
      ]
    },
    {
      "cell_type": "code",
      "source": [
        "import matplotlib.pyplot as plt\n",
        "%matplotlib inline\n",
        "\n",
        "plt.imshow(train[500])"
      ],
      "metadata": {
        "id": "JD72tHf5jkFX"
      },
      "execution_count": null,
      "outputs": []
    },
    {
      "cell_type": "code",
      "source": [
        "# Сжатие диапазона [0, 255] значений к диапазону [0, 1]\n",
        "train = train.astype('float32') / 255."
      ],
      "metadata": {
        "id": "jDCzREXGZOye"
      },
      "execution_count": null,
      "outputs": []
    },
    {
      "cell_type": "code",
      "source": [
        "from tensorflow.keras.callbacks import Callback, LambdaCallback\n",
        "import psutil\n",
        "\n",
        "gc.collect()\n",
        "\n",
        "def on_epoch_end(self, logs=None):\n",
        "        memory_usage = round(psutil.Process().memory_info().rss/1024/1024, 2)\n",
        "        print(f\"Объем оперативной памяти перед очиской, занимаемый выполнением кода: {memory_usage} мб\")\n",
        "        gc.collect()\n",
        "ae_callback = LambdaCallback(on_epoch_end)"
      ],
      "metadata": {
        "id": "83mCbsjix84r"
      },
      "execution_count": null,
      "outputs": []
    },
    {
      "cell_type": "code",
      "source": [
        "autoencoder.compile(optimizer=Adam(1e-4),\n",
        "                      loss='mse')"
      ],
      "metadata": {
        "id": "XuZP-6kTkHH_"
      },
      "execution_count": null,
      "outputs": []
    },
    {
      "cell_type": "code",
      "source": [
        "history = autoencoder.fit(train, train,\n",
        "                            batch_size=32,\n",
        "                            epochs=15,\n",
        "                            validation_split=0.2,\n",
        "                            verbose=1,\n",
        "                            callbacks = [ae_callback])\n"
      ],
      "metadata": {
        "id": "C7sakyosZtB0"
      },
      "execution_count": null,
      "outputs": []
    },
    {
      "cell_type": "code",
      "source": [
        "plt.figure(figsize=(14,7))\n",
        "plt.plot(history.history['loss'],\n",
        "        label='Среднеквадратическая ошибка на обучающем наборе')\n",
        "plt.plot(history.history['val_loss'],\n",
        "        label='Среднеквадратическая ошибка на проверочном наборе')\n",
        "plt.ylabel('Средняя ошибка')\n",
        "plt.legend()\n",
        "plt.show()"
      ],
      "metadata": {
        "id": "8bMO2_iRdW5Z"
      },
      "execution_count": null,
      "outputs": []
    },
    {
      "cell_type": "code",
      "source": [
        "history = autoencoder.fit(train, train,\n",
        "                            batch_size=32,\n",
        "                            epochs=15,\n",
        "                            validation_split=0.2,\n",
        "                            verbose=1,\n",
        "                            callbacks = [ae_callback])\n"
      ],
      "metadata": {
        "id": "osaB8W6q7pTZ"
      },
      "execution_count": null,
      "outputs": []
    },
    {
      "cell_type": "markdown",
      "source": [
        "Потенциал обучения еще есть, но на текущие иследования хватит. Сохраним эту модель"
      ],
      "metadata": {
        "id": "GxPeFE7QZzkt"
      }
    },
    {
      "cell_type": "code",
      "source": [
        "autoencoder.save('Internship/Model/model_var1.h5')\n",
        "autoencoder.save_weights('Internship/Model/weights_var1.h5')"
      ],
      "metadata": {
        "colab": {
          "base_uri": "https://localhost:8080/"
        },
        "id": "yo7UVmT8Z9Zv",
        "outputId": "9756a2e1-91d3-4320-956a-0ee2eb98011a"
      },
      "execution_count": null,
      "outputs": [
        {
          "output_type": "stream",
          "name": "stderr",
          "text": [
            "C:\\Users\\mrakr\\anaconda3\\Lib\\site-packages\\keras\\src\\engine\\training.py:3079: UserWarning: You are saving your model as an HDF5 file via `model.save()`. This file format is considered legacy. We recommend using instead the native Keras format, e.g. `model.save('my_model.keras')`.\n",
            "  saving_api.save_model(\n"
          ]
        }
      ]
    },
    {
      "cell_type": "markdown",
      "source": [
        "Модель весит 700 мб. Веса 230 мб. Сохранять в весах имеет смысл."
      ],
      "metadata": {
        "id": "qbSaszgHdyZn"
      }
    },
    {
      "cell_type": "code",
      "source": [
        "train_pred = autoencoder.predict(train[:3])"
      ],
      "metadata": {
        "colab": {
          "base_uri": "https://localhost:8080/"
        },
        "id": "zWuFVezefF9L",
        "outputId": "3f2757a3-da8f-460e-e617-836557d17ab7"
      },
      "execution_count": null,
      "outputs": [
        {
          "output_type": "stream",
          "name": "stdout",
          "text": [
            "1/1 [==============================] - 1s 556ms/step\n"
          ]
        }
      ]
    },
    {
      "cell_type": "code",
      "source": [
        "def show_images(orig, mod, names):\n",
        "  count = len(orig)\n",
        "  if (count != len(mod) and count != len(names)):\n",
        "    print('Массивы должны одинаковое количество элементов')\n",
        "    return\n",
        "  figure, axs = plt.subplots(count, 2, figsize=(25, 30))\n",
        "  for i in range(count):\n",
        "        axs[i, 0].set_title('оригинальная картинка')\n",
        "        axs[i, 0].imshow(orig[i])\n",
        "        axs[i, 0].axis('off')\n",
        "\n",
        "        axs[i, 1].set_title(names[i])\n",
        "        axs[i, 1].imshow(mod[i])\n",
        "        axs[i, 1].axis('off')\n",
        "  plt.show()"
      ],
      "metadata": {
        "id": "64WJOYKdgaKY"
      },
      "execution_count": null,
      "outputs": []
    },
    {
      "cell_type": "code",
      "source": [
        "train_pred[1].shape"
      ],
      "metadata": {
        "colab": {
          "base_uri": "https://localhost:8080/"
        },
        "id": "FZXT5TsijAbb",
        "outputId": "554369f5-2585-434d-c9d6-1cebafcc8744"
      },
      "execution_count": null,
      "outputs": [
        {
          "output_type": "execute_result",
          "data": {
            "text/plain": [
              "(360, 640, 3)"
            ]
          },
          "metadata": {},
          "execution_count": 45
        }
      ]
    },
    {
      "cell_type": "code",
      "source": [
        "import matplotlib.pyplot as plt\n",
        "%matplotlib inline\n",
        "\n",
        "show_images(train[:3], train_pred[:3], ['предсказание', 'предсказание', 'предсказание', 'предсказание'])"
      ],
      "metadata": {
        "id": "TxwgHqVtd6wt"
      },
      "execution_count": null,
      "outputs": []
    },
    {
      "cell_type": "code",
      "source": [
        "from tensorflow.keras.layers import Input, Conv2D, MaxPooling2D, UpSampling2D\n",
        "# Входной слой\n",
        "input_img = Input(shape=(shape))\n",
        "\n",
        "# Энкодер\n",
        "x = Conv2D(16, (3, 3), activation='relu', padding='same')(input_img)\n",
        "x = MaxPooling2D((2, 2), padding='same')(x)\n",
        "x = Conv2D(8, (3, 3), activation='relu', padding='same')(x)\n",
        "x = MaxPooling2D((2, 2), padding='same')(x)\n",
        "x = Conv2D(8, (3, 3), activation='relu', padding='same')(x)\n",
        "encoded = MaxPooling2D((2, 2), padding='same')(x)\n",
        "\n",
        "# Декодер\n",
        "x = Conv2D(8, (3, 3), activation='relu', padding='same')(encoded)\n",
        "x = UpSampling2D((2, 2))(x)\n",
        "x = Conv2D(8, (3, 3), activation='relu', padding='same')(x)\n",
        "x = UpSampling2D((2, 2))(x)\n",
        "x = Conv2D(16, (3, 3), activation='relu')(x)\n",
        "x = UpSampling2D((2, 2))(x)\n",
        "decoded = Conv2D(3, (3, 3), activation='sigmoid', padding='same')(x)\n",
        "\n",
        "# Создание модели автоэнкодера\n",
        "autoencoder1 = Model(input_img, decoded)"
      ],
      "metadata": {
        "id": "pvh5bscxfxLO"
      },
      "execution_count": null,
      "outputs": []
    }
  ]
}
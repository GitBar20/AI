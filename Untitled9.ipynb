{
  "nbformat": 4,
  "nbformat_minor": 0,
  "metadata": {
    "colab": {
      "provenance": [],
      "mount_file_id": "1eL7Kxf36o7os9m5qIEyZmv-pnKjiPatP",
      "authorship_tag": "ABX9TyPmDyu+uLAcF6V1cAYHdsqx",
      "include_colab_link": true
    },
    "kernelspec": {
      "name": "python3",
      "display_name": "Python 3"
    },
    "language_info": {
      "name": "python"
    }
  },
  "cells": [
    {
      "cell_type": "markdown",
      "metadata": {
        "id": "view-in-github",
        "colab_type": "text"
      },
      "source": [
        "<a href=\"https://colab.research.google.com/github/GitBar20/AI/blob/main/Untitled9.ipynb\" target=\"_parent\"><img src=\"https://colab.research.google.com/assets/colab-badge.svg\" alt=\"Open In Colab\"/></a>"
      ]
    },
    {
      "cell_type": "code",
      "source": [
        "from datetime import timedelta\n",
        "import cv2\n",
        "import numpy as np\n",
        "import os\n"
      ],
      "metadata": {
        "id": "NCrtlOYU1Eo3"
      },
      "execution_count": 1,
      "outputs": []
    },
    {
      "cell_type": "code",
      "source": [
        "# то есть, если видео длительностью 30 секунд, сохраняется 10 кадров в секунду = всего сохраняется 300 кадров\n",
        "SAVING_FRAMES_PER_SECOND = 0.1\n",
        "\n",
        "def format_timedelta(td):\n",
        "    \"\"\"Служебная функция для классного форматирования объектов timedelta (например, 00:00:20.05)\n",
        "    исключая микросекунды и сохраняя миллисекунды\"\"\"\n",
        "    result = str(td)\n",
        "    try:\n",
        "        result, ms = result.split(\".\")\n",
        "    except ValueError:\n",
        "        return \"-\" + result + \".00\".replace(\":\", \"-\")\n",
        "    ms = int(ms)\n",
        "    ms = round(ms / 1e4)\n",
        "    return f\"-{result}.{ms:02}\".replace(\":\", \"-\")\n"
      ],
      "metadata": {
        "id": "P4jK3R6j1OsF"
      },
      "execution_count": 9,
      "outputs": []
    },
    {
      "cell_type": "code",
      "source": [
        "def get_saving_frames_durations(cap, saving_fps):\n",
        "    \"\"\"Функция, которая возвращает список длительностей сохраняемых кадров\"\"\"\n",
        "    s = []\n",
        "    # получаем длительность клипа, разделив количество кадров на количество кадров в секунду\n",
        "    clip_duration = cap.get(cv2.CAP_PROP_FRAME_COUNT) / cap.get(cv2.CAP_PROP_FPS)\n",
        "    # используем np.arange() для выполнения шагов с плавающей запятой\n",
        "    for i in np.arange(0, clip_duration, 1 / saving_fps):\n",
        "        s.append(i)\n",
        "    return s\n"
      ],
      "metadata": {
        "id": "vYCA7DQi1UtA"
      },
      "execution_count": 3,
      "outputs": []
    },
    {
      "cell_type": "code",
      "execution_count": 11,
      "metadata": {
        "id": "hQiR7BQH1AN0"
      },
      "outputs": [],
      "source": [
        "def main(video_file):\n",
        "    filename, _ = os.path.splitext(video_file)\n",
        "    filename += \"-cv\"\n",
        "    # создаем папку по названию видео файла\n",
        "    if not os.path.isdir(filename):\n",
        "        os.mkdir(filename)\n",
        "    # читать видео файл\n",
        "    cap = cv2.VideoCapture(video_file)\n",
        "    # получить FPS видео\n",
        "    fps = cap.get(cv2.CAP_PROP_FPS)\n",
        "    # если наше SAVING_FRAMES_PER_SECOND больше FPS видео, то установливаем минимальное\n",
        "    saving_frames_per_second = min(fps, SAVING_FRAMES_PER_SECOND)\n",
        "    # получить список длительностей кадров для сохранения\n",
        "    saving_frames_durations = get_saving_frames_durations(cap, saving_frames_per_second)\n",
        "    # начало цикла\n",
        "    count = 0\n",
        "    save_count = 0\n",
        "    while True:\n",
        "        is_read, frame = cap.read()\n",
        "        if not is_read:\n",
        "            # выйти из цикла, если нет фреймов для чтения\n",
        "            break\n",
        "        # получаем длительность, разделив текущее количество кадров на FPS\n",
        "        frame_duration = count / fps\n",
        "        try:\n",
        "            # получить самую первоначальную длительность для сохранения\n",
        "            closest_duration = saving_frames_durations[0]\n",
        "        except IndexError:\n",
        "            # список пуст, все кадры сохранены\n",
        "            break\n",
        "        if frame_duration >= closest_duration:\n",
        "            # если ближайшая длительность меньше или равна длительности текущего кадра,\n",
        "            # сохраняем фрейм\n",
        "            frame_duration_formatted = format_timedelta(timedelta(seconds=frame_duration))\n",
        "            saveframe_name = os.path.join(filename, f\"f{frame_duration_formatted}.jpg\")\n",
        "            cv2.imwrite(saveframe_name, frame)\n",
        "            save_count += 1\n",
        "            print(f\"{saveframe_name} сохранён\")\n",
        "            # удалить текущую длительность из списка, так как этот кадр уже сохранен\n",
        "            try:\n",
        "                saving_frames_durations.pop(0)\n",
        "            except IndexError:\n",
        "                pass\n",
        "        # увеличить счечик кадров count\n",
        "        count += 1\n",
        "\n",
        "    print(f\"Итого сохранено кадров {save_count}\")\n",
        "\n"
      ]
    },
    {
      "cell_type": "code",
      "source": [
        "if __name__ == \"__main__\":\n",
        "    import sys\n",
        "    video_file = sys.argv[1]\n",
        "    import time\n",
        "    begtime = time.perf_counter()\n",
        "    main(\"/content/drive/MyDrive/Potok_buh1.mp4\")\n",
        "    endtime = time.perf_counter()\n",
        "    print(f\"\\nЗатрачено, с: {endtime - begtime} \")"
      ],
      "metadata": {
        "colab": {
          "base_uri": "https://localhost:8080/"
        },
        "id": "n1dJ6trp1E8B",
        "outputId": "f3b6dac0-bb99-410d-b732-a785c3c32505"
      },
      "execution_count": 12,
      "outputs": [
        {
          "output_type": "stream",
          "name": "stdout",
          "text": [
            "/content/drive/MyDrive/Potok_buh1-cv/f-0:00:00.00.jpg сохранён\n",
            "/content/drive/MyDrive/Potok_buh1-cv/f-0:00:10.00.jpg сохранён\n",
            "/content/drive/MyDrive/Potok_buh1-cv/f-0:00:20.00.jpg сохранён\n",
            "/content/drive/MyDrive/Potok_buh1-cv/f-0:00:30.00.jpg сохранён\n",
            "Итого сохранено кадров 4\n",
            "\n",
            "Затрачено, с: 2.1970591770000283 \n"
          ]
        }
      ]
    }
  ]
}